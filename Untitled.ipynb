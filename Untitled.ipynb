{
 "cells": [
  {
   "cell_type": "code",
   "execution_count": null,
   "metadata": {},
   "outputs": [],
   "source": [
    "# Dependencies and Setup\n",
    "import pandas as pd\n",
    "import numpy as np\n",
    "# Read the path using pandas into a DataFrame\n",
    "heroes = \"../Resources/purchase_data.csv\"\n",
    "heroes_df = pd.read_csv(heroes)\n",
    "heroes_df.head()\n"
   ]
  },
  {
   "cell_type": "code",
   "execution_count": null,
   "metadata": {},
   "outputs": [],
   "source": [
    "#Calculate unique count\n",
    "unique_count = len(heroes_df[\"Item ID\"].unique())\n",
    "#calcualte average price\n",
    "avg_price = heroes_df[\"Price\"].mean()\n",
    "#calculate total number of purchases\n",
    "total_purchases = heroes_df[\"Purchase ID\"].count()\n",
    "#calcuate the total revenue\n",
    "revenue_total = heroes_df[\"Price\"].sum()\n",
    "#created summary data frame\n",
    "summary_analysis= pd.DataFrame({\"Unique Items\":[unique_count],\"Average Price\":[avg_price],\"Number of Purchases\":[number_purchases], \"Number of Purchases\":[total_purchases],\"Total Revenue\":[revenue_total]}, index=[0])\n",
    "summary_analysis[\"Average Price\"] = summary_analysis[\"Average Price\"].map(\"${:,.2f}\".format)\n",
    "summary_analysis[\"Total Revenue\"] = summary_analysis[\"Total Revenue\"].map(\"${:,.2f}\".format)\n",
    "summary_analysis"
   ]
  },
  {
   "cell_type": "code",
   "execution_count": null,
   "metadata": {},
   "outputs": [],
   "source": []
  }
 ],
 "metadata": {
  "kernelspec": {
   "display_name": "Python 3",
   "language": "python",
   "name": "python3"
  },
  "language_info": {
   "codemirror_mode": {
    "name": "ipython",
    "version": 3
   },
   "file_extension": ".py",
   "mimetype": "text/x-python",
   "name": "python",
   "nbconvert_exporter": "python",
   "pygments_lexer": "ipython3",
   "version": "3.8.5"
  }
 },
 "nbformat": 4,
 "nbformat_minor": 4
}
